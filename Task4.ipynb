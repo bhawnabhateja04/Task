{
 "cells": [
  {
   "cell_type": "markdown",
   "id": "b50c6ea4",
   "metadata": {},
   "source": [
    "## Task 04: Bar & Histogram Visualizations"
   ]
  },
  {
   "cell_type": "markdown",
   "id": "c898a950",
   "metadata": {},
   "source": [
    "### 📊 Bar Chart – Categorical (Gender Distribution)\n"
   ]
  },
  {
   "cell_type": "code",
   "execution_count": null,
   "id": "2632a335",
   "metadata": {},
   "outputs": [],
   "source": [
    "import pandas as pd\n",
    "import matplotlib.pyplot as plt\n",
    "\n",
    "df = pd.DataFrame({'gender': ['M', 'F', 'M', 'F', 'F', 'M', 'F', 'M', 'M', 'F']})\n",
    "counts = df['gender'].value_counts()\n",
    "\n",
    "counts.plot(kind='bar', color=['skyblue', 'pink'])\n",
    "plt.title('Gender Distribution')\n",
    "plt.xlabel('Gender')\n",
    "plt.ylabel('Count')\n",
    "plt.show()"
   ]
  },
  {
   "cell_type": "markdown",
   "id": "babea1b6",
   "metadata": {},
   "source": [
    "### 📈 Histogram – Continuous (Age Distribution)"
   ]
  },
  {
   "cell_type": "code",
   "execution_count": null,
   "id": "aa765fff",
   "metadata": {},
   "outputs": [],
   "source": [
    "import numpy as np\n",
    "import seaborn as sns\n",
    "import matplotlib.pyplot as plt\n",
    "\n",
    "ages = np.random.normal(loc=35, scale=10, size=200)\n",
    "\n",
    "sns.histplot(ages, kde=True, bins=15, color='skyblue', edgecolor='black')\n",
    "plt.title('Age Distribution')\n",
    "plt.xlabel('Age')\n",
    "plt.ylabel('Frequency')\n",
    "plt.show()\n"
   ]
  }
 ],
 "metadata": {
  "language_info": {
   "name": "python"
  }
 },
 "nbformat": 4,
 "nbformat_minor": 5
}
