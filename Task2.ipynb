{
 "cells": [
  {
   "cell_type": "markdown",
   "metadata": {},
   "source": [
    "# Key Findings\n",
    "\n",
    "## 1. Accident Hotspots & Black Spots\n",
    "- **12 major black spots** identified by police (e.g., NH‑19, Badkhal flyover, Bata Chowk, KGP Expressway).\n",
    "- These areas recorded approximately **157 deaths and 357 accidents (2020–2022)**.\n",
    "- A GIS-based study identified **11 more crash-prone locations** along NH‑44."
   ]
  },
  {
   "cell_type": "code",
   "metadata": {},
   "execution_count": null,
   "outputs": [],
   "source": [
    "# Example: Visualizing accident hotspots on a map (requires geocoded data)\n",
    "import folium\n",
    "\n",
    "# Sample coordinates for demonstration (replace with real data)\n",
    "hotspots = [\n",
    "    {'name': 'NH-19', 'lat': 28.4595, 'lon': 77.0266},\n",
    "    {'name': 'Badkhal flyover', 'lat': 28.4089, 'lon': 77.3178},\n",
    "    {'name': 'Bata Chowk', 'lat': 28.4106, 'lon': 77.3077},\n",
    "    {'name': 'KGP Expressway', 'lat': 28.5000, 'lon': 77.0000}\n",
    "]\n",
    "\n",
    "m = folium.Map(location=[28.45, 77.1], zoom_start=11)\n",
    "for spot in hotspots:\n",
    "    folium.Marker([spot['lat'], spot['lon']], popup=spot['name']).add_to(m)\n",
    "m"
   ]
  },
  {
   "cell_type": "markdown",
   "metadata": {},
   "source": [
    "## 2. Road Condition Factors\n",
    "- Poor signage, lighting, and drainage were common issues.\n",
    "- Waterlogged underpasses led to fatal night accidents.\n",
    "- Expressways lacked enforcement—two-wheelers often entered high-speed lanes."
   ]
  },
  {
   "cell_type": "markdown",
   "metadata": {},
   "source": [
    "## 3. Weather Conditions\n",
    "- Monsoon-linked waterlogging contributed to deadly crashes.\n",
    "- While no localized weather-crash dataset exists, global data confirms higher accident risks in wet/low-visibility conditions."
   ]
  },
  {
   "cell_type": "code",
   "metadata": {},
   "execution_count": null,
   "outputs": [],
   "source": [
    "# Example: Simulating accident counts by weather condition\n",
    "import matplotlib.pyplot as plt\n",
    "\n",
    "conditions = ['Clear', 'Rain', 'Fog', 'Waterlogged']\n",
    "accidents = [120, 80, 30, 27]\n",
    "\n",
    "plt.bar(conditions, accidents, color=['skyblue', 'blue', 'gray', 'navy'])\n",
    "plt.title('Accidents by Weather Condition (Sample Data)')\n",
    "plt.ylabel('Number of Accidents')\n",
    "plt.show()"
   ]
  },
  {
   "cell_type": "markdown",
   "metadata": {},
   "source": [
    "## 4. Time of Day Trends\n",
    "- High fatality rates observed during:\n",
    "    - **2 AM – 4 AM** (due to driver fatigue, low visibility).\n",
    "    - **7 AM – 9 AM** (rush hour)."
   ]
  },
  {
   "cell_type": "code",
   "metadata": {},
   "execution_count": null,
   "outputs": [],
   "source": [
    "# Example: Plotting accident frequency by hour\n",
    "import numpy as np\n",
    "\n",
    "hours = np.arange(0, 24)\n",
    "accident_counts = [2, 1, 3, 5, 4, 3, 6, 12, 15, 10, 8, 7, 6, 5, 4, 5, 6, 8, 10, 12, 9, 6, 4, 3]\n",
    "\n",
    "plt.figure(figsize=(10,4))\n",
    "plt.plot(hours, accident_counts, marker='o')\n",
    "plt.title('Accident Frequency by Hour (Sample Data)')\n",
    "plt.xlabel('Hour of Day')\n",
    "plt.ylabel('Number of Accidents')\n",
    "plt.xticks(hours)\n",
    "plt.grid(True)\n",
    "plt.show()"
   ]
  },
  {
   "cell_type": "markdown",
   "metadata": {},
   "source": [
    "## 5. Behavioral Patterns\n",
    "- Common violations included: wrong-side driving, helmet non-use, speeding, and drunk driving.\n",
    "- Helmet-related challans numbered around **19,000+ in January alone**.\n",
    "- Social media-driven “stunt driving” is emerging as a risk factor."
   ]
  },
  {
   "cell_type": "markdown",
   "metadata": {},
   "source": [
    "## 📊 Visualization Strategy\n",
    "### 6. Visualization Methods\n",
    "- **Heatmaps:** Plot accident density using geocoded crash data.\n",
    "- **Hotspot overlays:** Visualize police/GIS-identified black spots.\n",
    "- **Time-based plots:** Show accident frequency by hour.\n",
    "- **Conditional layers:** Map rain/flood zones, underpasses.\n",
    "- **Behavior overlays:** Identify zones of high rule violations."
   ]
  }
 ],
 "metadata": {
  "kernelspec": {
   "display_name": "Python 3",
   "language": "python",
   "name": "python3"
  },
  "language_info": {
   "name": "python",
   "version": ""
  }
 },
 "nbformat": 4,
 "nbformat_minor": 2
}